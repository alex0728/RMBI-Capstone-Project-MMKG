{
 "cells": [
  {
   "cell_type": "code",
   "execution_count": 10,
   "id": "78c5fe0f",
   "metadata": {},
   "outputs": [],
   "source": [
    "from py2neo import Graph\n",
    "import pandas as pd"
   ]
  },
  {
   "cell_type": "code",
   "execution_count": 3,
   "id": "b509f21d",
   "metadata": {},
   "outputs": [],
   "source": [
    "uri = 'bolt://localhost:7687'\n",
    "user = 'neo4j'\n",
    "pwd = '1234'\n",
    "\n",
    "graph = Graph(uri, auth=('neo4j', pwd))"
   ]
  },
  {
   "cell_type": "code",
   "execution_count": 13,
   "id": "ab31cd8c",
   "metadata": {},
   "outputs": [
    {
     "data": {
      "text/html": [
       "<table><tr><th>name</th><th>description</th></tr><tr><td style=\"text-align:left\">Journalism</td><td style=\"text-align:left\">Journalism is the production and distribution of reports on the interaction of events, facts, ideas, and people that are the &quot;news of the day&quot; and that informs society to at least some degree. </td></tr><tr><td style=\"text-align:left\">Film producer</td><td style=\"text-align:left\">A film producer is a person who oversees film production. Either employed by a production company or working independently, producers plan and coordinate various aspects of film production, such as selecting the script; coordinating writing, directing, editing; and arranging financing.\n",
       "</td></tr><tr><td style=\"text-align:left\">Model</td><td style=\"text-align:left\">A model is a person with a role either to promote, display or advertise commercial products or to serve as a visual aid for people who are creating works of art or to pose for photography. </td></tr></table>"
      ],
      "text/plain": [
       " name          | description                                                                                                                                                                                                                                                                                    \n",
       "---------------|------------------------------------------------------------------------------------------------------------------------------------------------------------------------------------------------------------------------------------------------------------------------------------------------\n",
       " Journalism    | Journalism is the production and distribution of reports on the interaction of events, facts, ideas, and people that are the \"news of the day\" and that informs society to at least some degree.                                                                                               \n",
       " Film producer | A film producer is a person who oversees film production. Either employed by a production company or working independently, producers plan and coordinate various aspects of film production, such as selecting the script; coordinating writing, directing, editing; and arranging financing. \n",
       " Model         | A model is a person with a role either to promote, display or advertise commercial products or to serve as a visual aid for people who are creating works of art or to pose for photography.                                                                                                   "
      ]
     },
     "execution_count": 13,
     "metadata": {},
     "output_type": "execute_result"
    }
   ],
   "source": [
    "cursor = graph.run('MATCH (a)-[*..1]-(b) WHERE a.name = \"Brad Pitt\" RETURN b.name as name, b.description as description LIMIT 10;')\n",
    "cursor"
   ]
  },
  {
   "cell_type": "code",
   "execution_count": 14,
   "id": "aedcf9b7",
   "metadata": {},
   "outputs": [],
   "source": [
    "result = pd.DataFrame.from_records(cursor, columns=cursor.keys())"
   ]
  },
  {
   "cell_type": "code",
   "execution_count": 15,
   "id": "0f9ad732",
   "metadata": {},
   "outputs": [
    {
     "data": {
      "text/html": [
       "<div>\n",
       "<style scoped>\n",
       "    .dataframe tbody tr th:only-of-type {\n",
       "        vertical-align: middle;\n",
       "    }\n",
       "\n",
       "    .dataframe tbody tr th {\n",
       "        vertical-align: top;\n",
       "    }\n",
       "\n",
       "    .dataframe thead th {\n",
       "        text-align: right;\n",
       "    }\n",
       "</style>\n",
       "<table border=\"1\" class=\"dataframe\">\n",
       "  <thead>\n",
       "    <tr style=\"text-align: right;\">\n",
       "      <th></th>\n",
       "      <th>name</th>\n",
       "      <th>description</th>\n",
       "    </tr>\n",
       "  </thead>\n",
       "  <tbody>\n",
       "    <tr>\n",
       "      <th>0</th>\n",
       "      <td>Journalism</td>\n",
       "      <td>Journalism is the production and distribution ...</td>\n",
       "    </tr>\n",
       "    <tr>\n",
       "      <th>1</th>\n",
       "      <td>Film producer</td>\n",
       "      <td>A film producer is a person who oversees film ...</td>\n",
       "    </tr>\n",
       "    <tr>\n",
       "      <th>2</th>\n",
       "      <td>Model</td>\n",
       "      <td>A model is a person with a role either to prom...</td>\n",
       "    </tr>\n",
       "    <tr>\n",
       "      <th>3</th>\n",
       "      <td>Actor</td>\n",
       "      <td>An actor or actress is a person who portrays a...</td>\n",
       "    </tr>\n",
       "    <tr>\n",
       "      <th>4</th>\n",
       "      <td>Male</td>\n",
       "      <td>Male is the sex of an organism that produces t...</td>\n",
       "    </tr>\n",
       "    <tr>\n",
       "      <th>5</th>\n",
       "      <td>Brad Grey</td>\n",
       "      <td>Brad Alan Grey was an American television and ...</td>\n",
       "    </tr>\n",
       "    <tr>\n",
       "      <th>6</th>\n",
       "      <td>Bernie Mac</td>\n",
       "      <td>Bernard Jeffrey McCullough, better known by hi...</td>\n",
       "    </tr>\n",
       "    <tr>\n",
       "      <th>7</th>\n",
       "      <td>Jared Harris</td>\n",
       "      <td>Jared Francis Harris is an English actor. His ...</td>\n",
       "    </tr>\n",
       "    <tr>\n",
       "      <th>8</th>\n",
       "      <td>Julia Ormond</td>\n",
       "      <td>Julia Karin Ormond is an English actress. She ...</td>\n",
       "    </tr>\n",
       "    <tr>\n",
       "      <th>9</th>\n",
       "      <td>Christoph Waltz</td>\n",
       "      <td>Christoph Waltz is an Austrian and German acto...</td>\n",
       "    </tr>\n",
       "  </tbody>\n",
       "</table>\n",
       "</div>"
      ],
      "text/plain": [
       "              name                                        description\n",
       "0       Journalism  Journalism is the production and distribution ...\n",
       "1    Film producer  A film producer is a person who oversees film ...\n",
       "2            Model  A model is a person with a role either to prom...\n",
       "3            Actor  An actor or actress is a person who portrays a...\n",
       "4             Male  Male is the sex of an organism that produces t...\n",
       "5        Brad Grey  Brad Alan Grey was an American television and ...\n",
       "6       Bernie Mac  Bernard Jeffrey McCullough, better known by hi...\n",
       "7     Jared Harris  Jared Francis Harris is an English actor. His ...\n",
       "8     Julia Ormond  Julia Karin Ormond is an English actress. She ...\n",
       "9  Christoph Waltz  Christoph Waltz is an Austrian and German acto..."
      ]
     },
     "execution_count": 15,
     "metadata": {},
     "output_type": "execute_result"
    }
   ],
   "source": [
    "result"
   ]
  },
  {
   "cell_type": "code",
   "execution_count": null,
   "id": "6997ccd8",
   "metadata": {},
   "outputs": [],
   "source": []
  }
 ],
 "metadata": {
  "kernelspec": {
   "display_name": "Python 3 (ipykernel)",
   "language": "python",
   "name": "python3"
  },
  "language_info": {
   "codemirror_mode": {
    "name": "ipython",
    "version": 3
   },
   "file_extension": ".py",
   "mimetype": "text/x-python",
   "name": "python",
   "nbconvert_exporter": "python",
   "pygments_lexer": "ipython3",
   "version": "3.9.0"
  }
 },
 "nbformat": 4,
 "nbformat_minor": 5
}
