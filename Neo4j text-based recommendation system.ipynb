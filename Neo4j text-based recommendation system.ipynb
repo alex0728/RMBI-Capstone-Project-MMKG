{
 "cells": [
  {
   "cell_type": "code",
   "execution_count": 93,
   "id": "b11a675b",
   "metadata": {},
   "outputs": [],
   "source": [
    "%matplotlib inline\n",
    "\n",
    "import json\n",
    "import re\n",
    "import urllib\n",
    "from pprint import pprint\n",
    "import time\n",
    "from tqdm import tqdm\n",
    "\n",
    "from py2neo import Node, Graph, Relationship, NodeMatcher\n",
    "from py2neo.bulk import merge_nodes\n",
    "\n",
    "import numpy as np\n",
    "import pandas as pd\n",
    "\n",
    "from sklearn.metrics import accuracy_score\n",
    "from sklearn.model_selection import train_test_split\n",
    "from sklearn import svm\n",
    "from sklearn.metrics import plot_confusion_matrix\n",
    "\n",
    "import matplotlib.pyplot as plt\n",
    "from mpl_toolkits.mplot3d import Axes3D\n",
    "import seaborn as sns"
   ]
  },
  {
   "cell_type": "code",
   "execution_count": 94,
   "id": "b509f21d",
   "metadata": {},
   "outputs": [],
   "source": [
    "uri = 'bolt://localhost:7687'\n",
    "user = 'neo4j'\n",
    "pwd = '1234'\n",
    "\n",
    "graph = Graph(uri, auth=('neo4j', pwd))"
   ]
  },
  {
   "cell_type": "code",
   "execution_count": 95,
   "id": "df36968a",
   "metadata": {
    "scrolled": true
   },
   "outputs": [
    {
     "data": {
      "text/html": [
       "<table><tr><th>param</th><th>value</th></tr><tr><td style=\"text-align:left\">handleVocabUris</td><td style=\"text-align:left\">SHORTEN</td></tr><tr><td style=\"text-align:left\">handleMultival</td><td style=\"text-align:left\">ARRAY</td></tr><tr><td style=\"text-align:left\">handleRDFTypes</td><td style=\"text-align:left\">LABELS</td></tr></table>"
      ],
      "text/plain": [
       " param           | value   \n",
       "-----------------|---------\n",
       " handleVocabUris | SHORTEN \n",
       " handleMultival  | ARRAY   \n",
       " handleRDFTypes  | LABELS  "
      ]
     },
     "execution_count": 95,
     "metadata": {},
     "output_type": "execute_result"
    }
   ],
   "source": [
    "graph.run('call n10s.graphconfig.init( {  handleMultival: \"ARRAY\" });')"
   ]
  },
  {
   "cell_type": "code",
   "execution_count": 96,
   "id": "e492e567",
   "metadata": {},
   "outputs": [
    {
     "data": {
      "text/html": [
       "<table><tr><th>terminationStatus</th><th>triplesLoaded</th><th>triplesParsed</th><th>namespaces</th><th>extraInfo</th><th>callParams</th></tr><tr><td style=\"text-align:left\">OK</td><td style=\"text-align:right\">592213</td><td style=\"text-align:right\">592213</td><td style=\"text-align:left\">{ns0: &#039;http://rdf.freebase.com/ns/&#039;}</td><td style=\"text-align:left\"></td><td style=\"text-align:left\">{}</td></tr></table>"
      ],
      "text/plain": [
       " terminationStatus | triplesLoaded | triplesParsed | namespaces                           | extraInfo | callParams \n",
       "-------------------|---------------|---------------|--------------------------------------|-----------|------------\n",
       " OK                |        592213 |        592213 | {ns0: 'http://rdf.freebase.com/ns/'} |           | {}         "
      ]
     },
     "execution_count": 96,
     "metadata": {},
     "output_type": "execute_result"
    }
   ],
   "source": [
    "graph.run('CALL n10s.rdf.import.fetch(\"file:///D:\\RMBI_MMKG_data\\FB15K\\FB15K_EntityTriples_Final.nt\",\"N-Triples\");')"
   ]
  },
  {
   "cell_type": "code",
   "execution_count": 207,
   "id": "ab31cd8c",
   "metadata": {},
   "outputs": [
    {
     "data": {
      "text/html": [
       "<table><tr><th>uri</th></tr><tr><td style=\"text-align:left\">http://rdf.freebase.com/ns/m.041y2</td></tr><tr><td style=\"text-align:left\">http://rdf.freebase.com/ns/m.01d_h8</td></tr><tr><td style=\"text-align:left\">http://rdf.freebase.com/ns/m.0d1pc</td></tr></table>"
      ],
      "text/plain": [
       " uri                                 \n",
       "-------------------------------------\n",
       " http://rdf.freebase.com/ns/m.041y2  \n",
       " http://rdf.freebase.com/ns/m.01d_h8 \n",
       " http://rdf.freebase.com/ns/m.0d1pc  "
      ]
     },
     "execution_count": 207,
     "metadata": {},
     "output_type": "execute_result"
    }
   ],
   "source": [
    "cursor = graph.run('MATCH (a)-[*..1]-(b) WHERE a.uri = \"http://rdf.freebase.com/ns/m.0c6qh\" RETURN b.uri as uri;')\n",
    "cursor"
   ]
  },
  {
   "cell_type": "code",
   "execution_count": 208,
   "id": "aedcf9b7",
   "metadata": {},
   "outputs": [],
   "source": [
    "result = pd.DataFrame.from_records(cursor, columns=cursor.keys())"
   ]
  },
  {
   "cell_type": "code",
   "execution_count": 209,
   "id": "2ef7a20c",
   "metadata": {},
   "outputs": [
    {
     "name": "stderr",
     "output_type": "stream",
     "text": [
      "C:\\Users\\Alex\\AppData\\Local\\Temp/ipykernel_10104/3406298138.py:1: FutureWarning: The default value of regex will change from True to False in a future version.\n",
      "  result_mid = result['uri'].str.replace('http://rdf.freebase.com/ns/m.','/m/')\n"
     ]
    },
    {
     "data": {
      "text/plain": [
       "0      /m/041y2\n",
       "1     /m/01d_h8\n",
       "2      /m/0d1pc\n",
       "3    /m/02hrh1q\n",
       "4     /m/05zppz\n",
       "5     /m/0b1f49\n",
       "6     /m/044lyq\n",
       "7     /m/02lj6p\n",
       "8     /m/04q5zw\n",
       "9     /m/0509bl\n",
       "Name: uri, dtype: object"
      ]
     },
     "execution_count": 209,
     "metadata": {},
     "output_type": "execute_result"
    }
   ],
   "source": [
    "result_mid = result['uri'].str.replace('http://rdf.freebase.com/ns/m.','/m/')\n",
    "result_mid = result_mid[:10]\n",
    "result_mid"
   ]
  },
  {
   "cell_type": "code",
   "execution_count": 210,
   "id": "2d571b10",
   "metadata": {},
   "outputs": [],
   "source": [
    "import json\n",
    "import urllib\n",
    "\n",
    "api_key = open('.api_key').read()\n",
    "result_name = []\n",
    "service_url = 'https://kgsearch.googleapis.com/v1/entities:search'"
   ]
  },
  {
   "cell_type": "code",
   "execution_count": 211,
   "id": "6c3055db",
   "metadata": {},
   "outputs": [],
   "source": [
    "for index, value in result_mid.items():\n",
    "    params = {\n",
    "        'ids': value,\n",
    "        'limit': 10,\n",
    "        'indent': True,\n",
    "        'key': api_key,\n",
    "        }\n",
    "    url = service_url + '?' + urllib.parse.urlencode(params)\n",
    "    response = json.loads(urllib.request.urlopen(url).read())\n",
    "    for element in response['itemListElement']:\n",
    "        result_name.append(element['result']['name'])"
   ]
  },
  {
   "cell_type": "code",
   "execution_count": 212,
   "id": "8288d250",
   "metadata": {},
   "outputs": [
    {
     "data": {
      "text/plain": [
       "['Journalism',\n",
       " 'Film producer',\n",
       " 'Model',\n",
       " 'Actor',\n",
       " 'Male',\n",
       " 'Brad Grey',\n",
       " 'Jared Harris',\n",
       " 'Bernie Mac',\n",
       " 'Michael De Luca',\n",
       " 'Julia Ormond']"
      ]
     },
     "execution_count": 212,
     "metadata": {},
     "output_type": "execute_result"
    }
   ],
   "source": [
    "result_name"
   ]
  },
  {
   "cell_type": "code",
   "execution_count": null,
   "id": "6997ccd8",
   "metadata": {},
   "outputs": [],
   "source": []
  }
 ],
 "metadata": {
  "kernelspec": {
   "display_name": "Python 3 (ipykernel)",
   "language": "python",
   "name": "python3"
  },
  "language_info": {
   "codemirror_mode": {
    "name": "ipython",
    "version": 3
   },
   "file_extension": ".py",
   "mimetype": "text/x-python",
   "name": "python",
   "nbconvert_exporter": "python",
   "pygments_lexer": "ipython3",
   "version": "3.9.7"
  }
 },
 "nbformat": 4,
 "nbformat_minor": 5
}
